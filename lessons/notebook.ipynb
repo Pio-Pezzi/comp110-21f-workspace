{
 "cells": [
  {
   "cell_type": "markdown",
   "source": [
    "# Demo Jupyter Notebook\n",
    "\n",
    "This notebook will exemplify **some** of the common use cases in Python Juypter notebook"
   ],
   "metadata": {}
  },
  {
   "cell_type": "code",
   "execution_count": 4,
   "source": [
    "name: str = \"Pio\"\n",
    "print(name)"
   ],
   "outputs": [
    {
     "output_type": "stream",
     "name": "stdout",
     "text": [
      "Meghna\n"
     ]
    }
   ],
   "metadata": {}
  },
  {
   "cell_type": "markdown",
   "source": [
    "## Formatting Markdown notes\n",
    "\n",
    "* You can have lists\n",
    "* You can have [links - such as to a Markdown cheat sheet](https://www.markdownguide.org/cheat-sheet/\n",
    ")"
   ],
   "metadata": {}
  },
  {
   "cell_type": "code",
   "execution_count": 5,
   "source": [
    "print(f\"Another reference to {name} made in this cell\")"
   ],
   "outputs": [
    {
     "output_type": "stream",
     "name": "stdout",
     "text": [
      "Another reference to Meghna made in this cell\n"
     ]
    }
   ],
   "metadata": {}
  },
  {
   "cell_type": "markdown",
   "source": [
    "## Useful Keyboard Shortcuts\n",
    "\n",
    "1. ``Control+Return`` Execute a cell and leave the focus / cursor in that cell\n",
    "2. ``Shift+Return`` Execute a cell and move to the next cell (or create a new cell at the end)"
   ],
   "metadata": {}
  },
  {
   "cell_type": "code",
   "execution_count": 9,
   "source": [
    "print(\"Some important computation...\")\n",
    "total: float = 110.0 + 10000.0\n",
    "total + 20000.0"
   ],
   "outputs": [
    {
     "output_type": "stream",
     "name": "stdout",
     "text": [
      "Some important computation...\n"
     ]
    },
    {
     "output_type": "execute_result",
     "data": {
      "text/plain": [
       "30110.0"
      ]
     },
     "metadata": {},
     "execution_count": 9
    }
   ],
   "metadata": {}
  },
  {
   "cell_type": "markdown",
   "source": [
    "## Expressions written as the last line of a cell are autoatically ouput\n",
    "\n",
    "This is very handy for not needing to call the ``print`` function at the end of every cell"
   ],
   "metadata": {}
  },
  {
   "cell_type": "markdown",
   "source": [
    "## Examples of Importing a Module"
   ],
   "metadata": {}
  },
  {
   "cell_type": "code",
   "execution_count": 8,
   "source": [
    "import notebook_helpers\n",
    "notebook_helpers.add_two_ints(1,3)"
   ],
   "outputs": [
    {
     "output_type": "execute_result",
     "data": {
      "text/plain": [
       "4"
      ]
     },
     "metadata": {},
     "execution_count": 8
    }
   ],
   "metadata": {}
  },
  {
   "cell_type": "code",
   "execution_count": null,
   "source": [
    "from notebook_helpers import add_two_ints"
   ],
   "outputs": [],
   "metadata": {}
  }
 ],
 "metadata": {
  "orig_nbformat": 4,
  "language_info": {
   "name": "python",
   "version": "3.9.6",
   "mimetype": "text/x-python",
   "codemirror_mode": {
    "name": "ipython",
    "version": 3
   },
   "pygments_lexer": "ipython3",
   "nbconvert_exporter": "python",
   "file_extension": ".py"
  },
  "kernelspec": {
   "name": "python3",
   "display_name": "Python 3.9.6 64-bit"
  },
  "interpreter": {
   "hash": "aee8b7b246df8f9039afb4144a1f6fd8d2ca17a180786b69acc140d282b71a49"
  }
 },
 "nbformat": 4,
 "nbformat_minor": 2
}